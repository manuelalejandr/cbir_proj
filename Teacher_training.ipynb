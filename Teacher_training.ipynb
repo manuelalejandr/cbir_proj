{
  "nbformat": 4,
  "nbformat_minor": 0,
  "metadata": {
    "colab": {
      "provenance": []
    },
    "kernelspec": {
      "name": "python3",
      "display_name": "Python 3"
    },
    "language_info": {
      "name": "python"
    },
    "accelerator": "GPU",
    "gpuClass": "standard"
  },
  "cells": [
    {
      "cell_type": "code",
      "execution_count": null,
      "metadata": {
        "colab": {
          "base_uri": "https://localhost:8080/"
        },
        "id": "iVQ0I9rIU4yU",
        "outputId": "d80ae6ec-830e-40e5-a452-3b196f3efb86"
      },
      "outputs": [
        {
          "output_type": "stream",
          "name": "stdout",
          "text": [
            "Downloading data from https://www.cs.toronto.edu/~kriz/cifar-10-python.tar.gz\n",
            "170498071/170498071 [==============================] - 2s 0us/step\n",
            "x_train shape: (50000, 32, 32, 3)\n",
            "50000 train samples\n",
            "10000 test samples\n"
          ]
        }
      ],
      "source": [
        "import numpy as np\n",
        "from tensorflow import keras\n",
        "from tensorflow.keras import layers\n",
        "import tensorflow as tf\n",
        "from sklearn.model_selection import train_test_split\n",
        "\n",
        "tf.keras.utils.set_random_seed(1)\n",
        "tf.config.experimental.enable_op_determinism()\n",
        "\n",
        "(x_train, y_train), (x_test, y_test) = tf.keras.datasets.cifar10.load_data()\n",
        "\n",
        "\n",
        "# Scale images to the [0, 1] range\n",
        "x_train = x_train.astype(\"float32\") / 255\n",
        "x_test = x_test.astype(\"float32\") / 255\n",
        "\n",
        "print(\"x_train shape:\", x_train.shape)\n",
        "print(x_train.shape[0], \"train samples\")\n",
        "print(x_test.shape[0], \"test samples\")\n",
        "\n",
        "\n",
        "\n",
        "y_train = keras.utils.to_categorical(y_train, 10)\n",
        "y_test = keras.utils.to_categorical(y_test, 10)"
      ]
    },
    {
      "cell_type": "code",
      "source": [
        "from sklearn.model_selection import train_test_split\n",
        "porc_unlabel = 0.99\n",
        "x_label, x_unlabel, y_label, y_unlabel = train_test_split(x_train, y_train, test_size=porc_unlabel, random_state=10, stratify=y_train)\n",
        "\n",
        "\n"
      ],
      "metadata": {
        "id": "xvRHJrs5U5R-"
      },
      "execution_count": null,
      "outputs": []
    },
    {
      "cell_type": "code",
      "source": [
        "y_fake_label = np.zeros(shape=(len(y_unlabel), 10))\n",
        "\n",
        "print(x_test.shape, y_test.shape)\n",
        "print(x_label.shape, y_label.shape)\n",
        "print(x_unlabel.shape, y_fake_label.shape)"
      ],
      "metadata": {
        "colab": {
          "base_uri": "https://localhost:8080/"
        },
        "id": "adHfi6jVU_Hu",
        "outputId": "7c470126-13cd-4af8-f70e-534957976758"
      },
      "execution_count": null,
      "outputs": [
        {
          "output_type": "stream",
          "name": "stdout",
          "text": [
            "(10000, 32, 32, 3) (10000, 10)\n",
            "(500, 32, 32, 3) (500, 10)\n",
            "(49500, 32, 32, 3) (49500, 10)\n"
          ]
        }
      ]
    },
    {
      "cell_type": "code",
      "source": [
        "\n",
        "# uno etiquetados con no etiquetados\n",
        "\n",
        "# combino etiquetados con los no \n",
        "if x_unlabel.shape[0]>0:\n",
        "  x_train = np.concatenate((x_label, x_unlabel))\n",
        "  y_train = np.concatenate((y_label, y_fake_label))\n",
        "  y_real = np.concatenate((y_label, y_unlabel))\n",
        "else:\n",
        "  x_train = x_label\n",
        "  y_train = y_label\n",
        "\n",
        "\n",
        "\n",
        "\n",
        "\n",
        "\n"
      ],
      "metadata": {
        "id": "TdtiWI-6VCr7"
      },
      "execution_count": null,
      "outputs": []
    },
    {
      "cell_type": "code",
      "source": [
        "from tensorflow.keras.applications import VGG16\n",
        "\n",
        "\n",
        "cnn_input = tf.keras.Input(shape=(32, 32, 3))\n",
        "upsample = tf.keras.layers.UpSampling2D()(cnn_input)\n",
        "vgg16 = VGG16(include_top=False, weights='imagenet', \n",
        "              pooling='avg', input_shape=(64,64,3))(upsample)\n",
        "\n",
        "\n",
        "\n",
        "\n",
        "\n",
        "model_cnn = keras.models.Model(cnn_input, vgg16)\n",
        "\n",
        "model_cnn.summary()"
      ],
      "metadata": {
        "colab": {
          "base_uri": "https://localhost:8080/"
        },
        "id": "e8Abf_MlVsPt",
        "outputId": "a2406d86-dd7b-493f-9b29-09e8669ccedd"
      },
      "execution_count": null,
      "outputs": [
        {
          "output_type": "stream",
          "name": "stdout",
          "text": [
            "Downloading data from https://storage.googleapis.com/tensorflow/keras-applications/vgg16/vgg16_weights_tf_dim_ordering_tf_kernels_notop.h5\n",
            "58889256/58889256 [==============================] - 0s 0us/step\n",
            "Model: \"model\"\n",
            "_________________________________________________________________\n",
            " Layer (type)                Output Shape              Param #   \n",
            "=================================================================\n",
            " input_1 (InputLayer)        [(None, 32, 32, 3)]       0         \n",
            "                                                                 \n",
            " up_sampling2d (UpSampling2D  (None, 64, 64, 3)        0         \n",
            " )                                                               \n",
            "                                                                 \n",
            " vgg16 (Functional)          (None, 512)               14714688  \n",
            "                                                                 \n",
            "=================================================================\n",
            "Total params: 14,714,688\n",
            "Trainable params: 14,714,688\n",
            "Non-trainable params: 0\n",
            "_________________________________________________________________\n"
          ]
        }
      ]
    },
    {
      "cell_type": "code",
      "source": [
        "def decay(epoch):\n",
        "  \"\"\" This method create the alpha\"\"\"\n",
        "  # returning a very small constant learning rate\n",
        "  return 0.001 / (1 + 1 * 30)"
      ],
      "metadata": {
        "id": "4pj4Nuz2V8dn"
      },
      "execution_count": null,
      "outputs": []
    },
    {
      "cell_type": "code",
      "source": [
        "tf.keras.utils.set_random_seed(1)\n",
        "tf.config.experimental.enable_op_determinism()\n",
        "\n",
        "\n",
        "classifier_input = tf.keras.Input(shape=(512,))\n",
        "### ACÁ AGREGAR MAS CAPAS QUE PUDIERAN SER RELEVANTES, SOLO HAY UNA CAPA DE 32\n",
        "classifier_dense2 = tf.keras.layers.Dense(32, activation='relu', kernel_initializer='he_uniform')(classifier_input)\n",
        "classifier_dropout2 = tf.keras.layers.Dropout(0.2)(classifier_dense2)\n",
        "classifier_dense3 = tf.keras.layers.Dense(len(y_train[0]), activation=\"softmax\")(classifier_dropout2)\n",
        "classifier = tf.keras.Model(classifier_input, classifier_dense3, name=\"classifier\")\n",
        "\n",
        "classifier.summary()\n",
        "cnn_classif_input = tf.keras.Input(shape=(32, 32, 3))\n",
        "cnn_series = model_cnn(cnn_classif_input)\n",
        "classif_series = classifier(cnn_series)\n",
        "\n",
        "\n",
        "final_classif = tf.keras.Model(cnn_classif_input, classif_series, name=\"CnnClf\")\n",
        "\n",
        "\n",
        "def my_loss(y_truee, y_pred):\n",
        "    cce = tf.keras.losses.CategoricalCrossentropy(reduction=tf.keras.losses.Reduction.NONE)\n",
        "    l1 = cce(y_truee, y_pred) \n",
        "    mask = tf.reduce_sum(y_truee,axis=1)\n",
        "    mloss = tf.multiply(mask,l1)\n",
        "    mloss = tf.reduce_sum(mloss/tf.math.maximum(tf.reduce_sum(mask),1))\n",
        "    return mloss\n",
        "\n",
        "final_classif.compile(\n",
        "loss = my_loss,\n",
        "optimizer= \"adam\",\n",
        "  metrics=['accuracy'])\n",
        "\n",
        "callback = []\n",
        "callback += [tf.keras.callbacks.LearningRateScheduler(decay, verbose=1)]\n",
        "es = tf.keras.callbacks.EarlyStopping(monitor='val_loss', mode='min', verbose=1, patience=5)\n",
        "callback += [es]\n",
        "\n",
        "\n",
        "final_classif.fit(x=x_train, y=y_train,\n",
        "  batch_size=128,\n",
        "  validation_data=(x_test , y_test),\n",
        "  epochs=2, shuffle=True,\n",
        "  callbacks=callback,\n",
        "  verbose=1\n",
        "  )\n"
      ],
      "metadata": {
        "colab": {
          "base_uri": "https://localhost:8080/"
        },
        "id": "tWS5MZ5rVtjV",
        "outputId": "c3f12edc-4be1-4aea-e30a-df764e1dda45"
      },
      "execution_count": null,
      "outputs": [
        {
          "output_type": "stream",
          "name": "stdout",
          "text": [
            "Model: \"classifier\"\n",
            "_________________________________________________________________\n",
            " Layer (type)                Output Shape              Param #   \n",
            "=================================================================\n",
            " input_3 (InputLayer)        [(None, 512)]             0         \n",
            "                                                                 \n",
            " dense (Dense)               (None, 32)                16416     \n",
            "                                                                 \n",
            " dropout (Dropout)           (None, 32)                0         \n",
            "                                                                 \n",
            " dense_1 (Dense)             (None, 10)                330       \n",
            "                                                                 \n",
            "=================================================================\n",
            "Total params: 16,746\n",
            "Trainable params: 16,746\n",
            "Non-trainable params: 0\n",
            "_________________________________________________________________\n",
            "\n",
            "Epoch 1: LearningRateScheduler setting learning rate to 3.2258064516129034e-05.\n",
            "Epoch 1/2\n",
            "391/391 [==============================] - 126s 291ms/step - loss: 1.6459 - accuracy: 0.1469 - val_loss: 2.1478 - val_accuracy: 0.1766 - lr: 3.2258e-05\n",
            "\n",
            "Epoch 2: LearningRateScheduler setting learning rate to 3.2258064516129034e-05.\n",
            "Epoch 2/2\n",
            "391/391 [==============================] - 113s 288ms/step - loss: 1.5757 - accuracy: 0.1819 - val_loss: 2.0116 - val_accuracy: 0.2452 - lr: 3.2258e-05\n"
          ]
        },
        {
          "output_type": "execute_result",
          "data": {
            "text/plain": [
              "<keras.callbacks.History at 0x7fe0cb259790>"
            ]
          },
          "metadata": {},
          "execution_count": 7
        }
      ]
    },
    {
      "cell_type": "code",
      "source": [
        "from sklearn.cluster import KMeans\n",
        "from tensorflow.keras.utils import to_categorical\n",
        "from sklearn.mixture import GaussianMixture\n",
        "\n",
        "# 5 veces mas la cantidad de etiquetas\n",
        "k = 5\n",
        "\n",
        "\n",
        "features = model_cnn.predict(x_train)\n",
        "features_test =  model_cnn.predict(x_test)\n",
        "\n",
        "## KMEANS\n",
        "k_means = KMeans(k*len(y_train[0]),random_state=10).fit(np.concatenate([features, features_test]))\n",
        "predict2 = k_means.predict(features)  \n",
        "predict_test =  k_means.predict(features_test) \n",
        "\n",
        "## GAUSSIAN MIXTURE\n",
        "#k_gaussian = GaussianMixture(k*len(y_train[0]),random_state=10).fit(features)\n",
        "#predict2 = k_gaussian.predict_proba(features)\n",
        "\n",
        "\n",
        "  \n",
        "y_kmeans_onehot = to_categorical(predict2, num_classes=k*len(y_train[0])) # pseudo - etiquetas \n",
        "y_kmeans_onehot_test = to_categorical(predict_test, num_classes=k*len(y_train[0]))# pseudo - etiquetas  test\n",
        "\n",
        "\n"
      ],
      "metadata": {
        "colab": {
          "base_uri": "https://localhost:8080/"
        },
        "id": "cqUOW-0tWC5G",
        "outputId": "9638728d-a11f-4f8d-feee-3ac2e50f049e"
      },
      "execution_count": null,
      "outputs": [
        {
          "output_type": "stream",
          "name": "stdout",
          "text": [
            "1563/1563 [==============================] - 40s 25ms/step\n",
            "313/313 [==============================] - 8s 25ms/step\n"
          ]
        }
      ]
    },
    {
      "cell_type": "code",
      "source": [
        "y_kmeans_onehot.shape\n"
      ],
      "metadata": {
        "colab": {
          "base_uri": "https://localhost:8080/"
        },
        "id": "v6qRS2NHcm-V",
        "outputId": "60a57723-4766-48d6-eaa1-5955edc4f244"
      },
      "execution_count": null,
      "outputs": [
        {
          "output_type": "execute_result",
          "data": {
            "text/plain": [
              "(50000, 50)"
            ]
          },
          "metadata": {},
          "execution_count": 10
        }
      ]
    }
  ]
}